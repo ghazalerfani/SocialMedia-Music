{
 "cells": [
  {
   "cell_type": "markdown",
   "metadata": {},
   "source": [
    "This notebook uses Google Cloud AutoML to classify text as either positive, neutral or negative. We ran the sentiment analysis for twitter tweets and facebook posts. Below is a high level overview of the process\n",
    "<img src=\"files/automl.png\">"
   ]
  },
  {
   "cell_type": "markdown",
   "metadata": {},
   "source": [
    "We uploaded sentiment-model-6-1 file to Google Cloud and trained a custom NLP model using the training data.\n",
    "\n",
    "Please refer to the link for documentation about using Google Cloud AutoML.\n",
    "https://cloud.google.com/natural-language/automl/sentiment/docs/\n",
    "\n",
    "<img src=\"files/training.png\">"
   ]
  },
  {
   "cell_type": "code",
   "execution_count": 8,
   "metadata": {},
   "outputs": [],
   "source": [
    "# imports\n",
    "import pandas as pd\n",
    "import matplotlib.pyplot as plt"
   ]
  },
  {
   "cell_type": "markdown",
   "metadata": {},
   "source": [
    "## Training"
   ]
  },
  {
   "cell_type": "code",
   "execution_count": 6,
   "metadata": {},
   "outputs": [
    {
     "data": {
      "text/html": [
       "<div>\n",
       "<style scoped>\n",
       "    .dataframe tbody tr th:only-of-type {\n",
       "        vertical-align: middle;\n",
       "    }\n",
       "\n",
       "    .dataframe tbody tr th {\n",
       "        vertical-align: top;\n",
       "    }\n",
       "\n",
       "    .dataframe thead th {\n",
       "        text-align: right;\n",
       "    }\n",
       "</style>\n",
       "<table border=\"1\" class=\"dataframe\">\n",
       "  <thead>\n",
       "    <tr style=\"text-align: right;\">\n",
       "      <th></th>\n",
       "      <th>Post</th>\n",
       "      <th>Sentiment</th>\n",
       "    </tr>\n",
       "  </thead>\n",
       "  <tbody>\n",
       "    <tr>\n",
       "      <th>0</th>\n",
       "      <td>I‚Äôm drinking reds apple ale in my room waiti...</td>\n",
       "      <td>2.0</td>\n",
       "    </tr>\n",
       "    <tr>\n",
       "      <th>1</th>\n",
       "      <td>Fuck Kodak. Literally the ONLY song I like of ...</td>\n",
       "      <td>0.0</td>\n",
       "    </tr>\n",
       "    <tr>\n",
       "      <th>2</th>\n",
       "      <td>@ArianaGrande YO your drink is so good wtf #cloud</td>\n",
       "      <td>2.0</td>\n",
       "    </tr>\n",
       "    <tr>\n",
       "      <th>3</th>\n",
       "      <td>@ArianaGrande i was drinking the cloud macchia...</td>\n",
       "      <td>2.0</td>\n",
       "    </tr>\n",
       "    <tr>\n",
       "      <th>4</th>\n",
       "      <td>i thought ariana grande was vegan lmfaooo</td>\n",
       "      <td>0.0</td>\n",
       "    </tr>\n",
       "  </tbody>\n",
       "</table>\n",
       "</div>"
      ],
      "text/plain": [
       "                                                Post  Sentiment\n",
       "0  I‚Äôm drinking reds apple ale in my room waiti...        2.0\n",
       "1  Fuck Kodak. Literally the ONLY song I like of ...        0.0\n",
       "2  @ArianaGrande YO your drink is so good wtf #cloud        2.0\n",
       "3  @ArianaGrande i was drinking the cloud macchia...        2.0\n",
       "4          i thought ariana grande was vegan lmfaooo        0.0"
      ]
     },
     "execution_count": 6,
     "metadata": {},
     "output_type": "execute_result"
    }
   ],
   "source": [
    "# Training file that was uploaded to Google Cloud\n",
    "training = pd.read_csv('./files/SentimentAnalysis/sentiment-model-6-1.csv')\n",
    "training.head()"
   ]
  },
  {
   "cell_type": "markdown",
   "metadata": {},
   "source": [
    "Posts that are negative have a sentiment score of 0, posts that are neutral have a sentiment score of 1 and posts that are positive have a sentiment score of 2."
   ]
  },
  {
   "cell_type": "code",
   "execution_count": 16,
   "metadata": {},
   "outputs": [
    {
     "data": {
      "image/png": "[encoded data removed]",
      "text/plain": [
       "<Figure size 432x288 with 1 Axes>"
      ]
     },
     "metadata": {
      "needs_background": "light"
     },
     "output_type": "display_data"
    }
   ],
   "source": [
    "# Distribution of postive, neutral, negative posts from training data\n",
    "training['Sentiment'].value_counts().plot(kind='bar')\n",
    "plt.xlabel('Sentiment')\n",
    "plt.ylabel('# of posts')\n",
    "plt.show()"
   ]
  },
  {
   "cell_type": "markdown",
   "metadata": {},
   "source": [
    "## Preprocessing "
   ]
  },
  {
   "cell_type": "markdown",
   "metadata": {},
   "source": [
    "The input for Sentiment Analysis is the Combined Social Data Pickle file. We preprocess the data to extract facebook posts and twitter tweets into separate files so that we can upload them to BigQuery. Please refer to the Google Cloud AutoML documentation link posted above for instructions on uploading data to BigQuery"
   ]
  },
  {
   "cell_type": "code",
   "execution_count": 24,
   "metadata": {},
   "outputs": [],
   "source": [
    "# Read pickle file into dataframe\n",
    "full_data = pd.read_pickle('./Data/Output/Combined_Social_Data_Pickle.pkl')"
   ]
  },
  {
   "cell_type": "code",
   "execution_count": 25,
   "metadata": {},
   "outputs": [],
   "source": [
    "# Function to clean posts. The text of the posts is stored in description field\n",
    "def cleanPosts(df):\n",
    "    '''\n",
    "        Cleans the text of the posts and adds a new column to the dataframe\n",
    "        that stores the cleaned version of the posts\n",
    "        \n",
    "        The input to the function is the dataframe that contains the posts\n",
    "    '''\n",
    "    # Replace new lines\n",
    "    df['Cleaned Post'] = df.description.str.replace('\\n','')\n",
    "    # Replace tab characters\n",
    "    df['Cleaned Post'] = df['Cleaned Post'].str.replace('\\t',' ')\n",
    "    # Regular expressions to remove hashtags, non alphanumeric characters and multiple spaces\n",
    "    #df['Cleaned Post'] = df['Cleaned Post'].str.replace(r'#[^\\s]+', '')\n",
    "    #df['Cleaned Post'] = df['Cleaned Post'].str.replace('[^a-zA-Z0-9\\s]', '')\n",
    "    #df['Cleaned Post'] = df['Cleaned Post'].str.replace('[\\s+]', ' ')\n",
    "    \n",
    "    return df"
   ]
  },
  {
   "cell_type": "code",
   "execution_count": 26,
   "metadata": {},
   "outputs": [],
   "source": [
    "# Remove uncleaned data field and rename social media handle fields to prevent duplicate field names\n",
    "full_data = cleanPosts(full_data)\n",
    "full_data = full_data.drop(['description'], axis=1)\n",
    "full_data = full_data.rename(columns={\"twitter\": \"twitter_id\", \"instagram\": \"instagram_id\", \"facebook\":\"facebook_id\", \"youtube\":\"youtube_id\"})"
   ]
  },
  {
   "cell_type": "code",
   "execution_count": 27,
   "metadata": {},
   "outputs": [],
   "source": [
    "def prepareFacebookFile(dataframe):\n",
    "    '''\n",
    "        Perform additional preprocessing on the data before uploading to\n",
    "        BigQuery\n",
    "    '''\n",
    "    # Filter out facebook posts from entire dataframe\n",
    "    facebook_posts = dataframe[(dataframe['social_platform'] == 'Facebook') & (dataframe['type_text'] == 1)]\n",
    "    # Remove NaN and corrupt records\n",
    "    facebook_posts = facebook_posts[facebook_posts['normalized_social_engagement_score'].notna()]\n",
    "    facebook_posts = facebook_posts[facebook_posts['Cleaned Post'].notna()]\n",
    "    facebook_posts['Cleaned Post'] = facebook_posts['Cleaned Post'].apply(lambda x:str(x).strip())\n",
    "    facebook_posts = facebook_posts[facebook_posts['Cleaned Post'].map(len) > 1]\n",
    "    facebook_posts = facebook_posts.reset_index(drop=True)\n",
    "    \n",
    "    facebook_posts.to_csv('./files/SentimentAnalysis/fb_data.csv', index=False)"
   ]
  },
  {
   "cell_type": "code",
   "execution_count": 28,
   "metadata": {},
   "outputs": [],
   "source": [
    "# Calling function to create facebook file (to be uploaded to BigQuery)\n",
    "prepareFacebookFile(full_data)"
   ]
  },
  {
   "cell_type": "code",
   "execution_count": 31,
   "metadata": {},
   "outputs": [],
   "source": [
    "def prepareTwitterFile(dataframe):\n",
    "    '''\n",
    "        Perform additional preprocessing on the data before uploading to\n",
    "        BigQuery\n",
    "    '''\n",
    "    twitter_posts = dataframe[(dataframe['social_platform'] == 'Twitter') & (dataframe['type_text'] == 1)]\n",
    "    twitter_posts = twitter_posts[twitter_posts['normalized_social_engagement_score'].notna()]\n",
    "    twitter_posts = twitter_posts[twitter_posts['Cleaned Post'].notna()]\n",
    "    twitter_posts['Cleaned Post'] = twitter_posts['Cleaned Post'].apply(lambda x:str(x).strip())\n",
    "    twitter_posts = twitter_posts[twitter_posts['Cleaned Post'].map(len) > 1]\n",
    "    twitter_posts = twitter_posts.reset_index(drop=True)\n",
    "    twitter_posts.to_csv('./files/SentimentAnalysis/twitter_data.csv', index=False)"
   ]
  },
  {
   "cell_type": "code",
   "execution_count": 32,
   "metadata": {},
   "outputs": [],
   "source": [
    "# Calling function to create twitter file (to be uploaded to BigQuery)\n",
    "prepareTwitterFile(full_data)"
   ]
  },
  {
   "cell_type": "markdown",
   "metadata": {},
   "source": [
    "## Sentiment Analysis"
   ]
  },
  {
   "cell_type": "markdown",
   "metadata": {},
   "source": [
    "This part of the code was run on Google Cloud Datalab to speed up processing"
   ]
  },
  {
   "cell_type": "code",
   "execution_count": null,
   "metadata": {},
   "outputs": [],
   "source": [
    "# Facebook\n",
    "\n",
    "# Imports\n",
    "import pandas as pd\n",
    "import numpy as np\n",
    "import google.datalab.bigquery as bq\n",
    "from google.cloud import automl_v1beta1\n",
    "from google.cloud.automl_v1beta1.proto import service_pb2"
   ]
  },
  {
   "cell_type": "code",
   "execution_count": null,
   "metadata": {},
   "outputs": [],
   "source": [
    "# Execute query and store results in dataframe\n",
    "fb_query = bq.Query('$$BIG QUERY TABLE QUERY')\n",
    "output_options = bq.QueryOutput.table(use_cache=False)\n",
    "result = fb_query.execute(output_options=output_options).result()\n",
    "df_fb = result.to_dataframe()\n",
    "df_fb['Sentiment Score'] = -100 ## Placeholder"
   ]
  },
  {
   "cell_type": "code",
   "execution_count": null,
   "metadata": {},
   "outputs": [],
   "source": [
    "# Set environment variable\n",
    "import sys,os,os.path\n",
    "os.environ['GOOGLE_APPLICATION_CREDENTIALS']='$$CREDENTIALS FILE'"
   ]
  },
  {
   "cell_type": "code",
   "execution_count": null,
   "metadata": {},
   "outputs": [],
   "source": [
    "import sys\n",
    "\n",
    "from google.cloud import automl_v1beta1\n",
    "from google.cloud.automl_v1beta1.proto import service_pb2\n",
    "\n",
    "\n",
    "def get_prediction(body):\n",
    "    '''\n",
    "        Method that uses the custom trained model to make prediction\n",
    "    '''\n",
    "    prediction_client = automl_v1beta1.PredictionServiceClient()\n",
    "\n",
    "    name = '$$AUTO ML MODEL NAME'\n",
    "    payload = {'text_snippet': {'content': body.encode('utf-8'), 'mime_type': 'text/plain' }}\n",
    "    params = {}\n",
    "    request = prediction_client.predict(name, payload, params)\n",
    "    \n",
    "    return request # waits till request is returned"
   ]
  },
  {
   "cell_type": "code",
   "execution_count": null,
   "metadata": {},
   "outputs": [],
   "source": [
    "# Main block of code that calls the method to make predictions and writes them to output file\n",
    "import time\n",
    "\n",
    "start = time.time()\n",
    "\n",
    "for i in range(df_fb.shape[0]): ##Change the index to what you want to analyze\n",
    "    if i%100 == 0:\n",
    "        print('Completed ' + str(i))\n",
    "       \n",
    "    try:\n",
    "        response = get_prediction(df_fb.iat[i,0])\n",
    "        df_fb['Sentiment Score'][i] = response.payload[0].text_sentiment.sentiment\n",
    "    except:\n",
    "        df_fb['Sentiment Score'][i]= -10.0\n",
    "        pass\n",
    "    #print (get_prediction(dfbeyonce.iat[i,1]))  \n",
    "end = time.time()\n",
    "print(end - start)\n",
    "df_fb.to_csv('./files/SentimentAnalysis/fb_sentiment_analysis.csv', encoding='utf-8', index=False) "
   ]
  },
  {
   "cell_type": "code",
   "execution_count": null,
   "metadata": {},
   "outputs": [],
   "source": [
    "# Twitter\n",
    "\n",
    "#Imports\n",
    "import pandas as pd\n",
    "import numpy as np\n",
    "import google.datalab.bigquery as bq\n",
    "from google.cloud import automl_v1beta1\n",
    "from google.cloud.automl_v1beta1.proto import service_pb2"
   ]
  },
  {
   "cell_type": "code",
   "execution_count": null,
   "metadata": {},
   "outputs": [],
   "source": [
    "# Execute query and store results in dataframe\n",
    "twitter_query = bq.Query('$$BIG QUERY TABLE QUERY')\n",
    "output_options = bq.QueryOutput.table(use_cache=False)\n",
    "result = twitter_query.execute(output_options=output_options).result()\n",
    "df_twitter = result.to_dataframe()\n",
    "df_twitter['Sentiment Score'] = -100"
   ]
  },
  {
   "cell_type": "code",
   "execution_count": null,
   "metadata": {},
   "outputs": [],
   "source": [
    "import time\n",
    "\n",
    "start = time.time()\n",
    "\n",
    "for i in range(df_twitter.shape[0]): \n",
    "    ##Change the index to what you want to analyze\n",
    "    try:\n",
    "        response = get_prediction(df_twitter.iat[i,0])\n",
    "        df_twitter['Sentiment Score'][i] = response.payload[0].text_sentiment.sentiment\n",
    "    except:\n",
    "        df_twitter['Sentiment Score'][i]= -10.0\n",
    "        pass\n",
    "    #print (get_prediction(dfbeyonce.iat[i,1]))  \n",
    "end = time.time()\n",
    "print(end - start)\n",
    "df_twitter.to_csv('./files/SentimentAnalysis/twitter_sentiment_analysis.csv', encoding='utf-8') "
   ]
  },
  {
   "cell_type": "markdown",
   "metadata": {},
   "source": [
    "The generated files need to be moved to ./files/SentimentAnalysis/ folder wither by using SFTP or SCP from the Google Compute Instance to local machine"
   ]
  },
  {
   "cell_type": "markdown",
   "metadata": {},
   "source": [
    "## Analysis"
   ]
  },
  {
   "cell_type": "code",
   "execution_count": 33,
   "metadata": {},
   "outputs": [],
   "source": [
    "# Imports\n",
    "import pandas as pd\n",
    "import matplotlib.pyplot as plt \n",
    "import seaborn as sns"
   ]
  },
  {
   "cell_type": "code",
   "execution_count": 35,
   "metadata": {},
   "outputs": [],
   "source": [
    "# Read the twitter and facebook sentiment analysis data files\n",
    "fb_sentiment_analysis = pd.read_csv('./files/SentimentAnalysis/fb_sentiment_analysis.csv', encoding='utf-8')\n",
    "fb_sentiment_analysis['platform'] = 'Facebook'\n",
    "twitter_sentiment_analysis = pd.read_csv('./files/SentimentAnalysis/twitter_sentiment_analysis.csv', encoding='utf-8')\n",
    "twitter_sentiment_analysis['platform'] = 'Twitter'\n",
    "\n",
    "# Create a combined file\n",
    "combined_df = pd.concat([fb_sentiment_analysis, twitter_sentiment_analysis], ignore_index=True)"
   ]
  },
  {
   "cell_type": "code",
   "execution_count": 58,
   "metadata": {},
   "outputs": [
    {
     "name": "stderr",
     "output_type": "stream",
     "text": [
      "/anaconda3/lib/python3.7/site-packages/scipy/stats/stats.py:1713: FutureWarning: Using a non-tuple sequence for multidimensional indexing is deprecated; use `arr[tuple(seq)]` instead of `arr[seq]`. In the future this will be interpreted as an array index, `arr[np.array(seq)]`, which will result either in an error or a different result.\n",
      "  return np.add.reduce(sorted[indexer] * weights, axis=axis) / sumval\n"
     ]
    },
    {
     "data": {
      "image/png": "[encoded data removed]",
      "text/plain": [
       "<Figure size 403.2x288 with 2 Axes>"
      ]
     },
     "metadata": {
      "needs_background": "light"
     },
     "output_type": "display_data"
    }
   ],
   "source": [
    "# Plotting social enagagement vs sentiment\n",
    "sns.catplot(x=\"Sentiment Score\", y=\"normalized_social_engagement_score\",\n",
    "                col=\"platform\",\n",
    "                 data=combined_df[combined_df['normalized_social_engagement_score'] < 1], kind=\"violin\", split=True,\n",
    "                 height=4, aspect=.7);"
   ]
  },
  {
   "cell_type": "code",
   "execution_count": 53,
   "metadata": {},
   "outputs": [
    {
     "data": {
      "text/plain": [
       "<matplotlib.axes._subplots.AxesSubplot at 0x16a6e1a20>"
      ]
     },
     "execution_count": 53,
     "metadata": {},
     "output_type": "execute_result"
    },
    {
     "data": {
      "image/png": "[encoded data removed]",
      "text/plain": [
       "<Figure size 432x288 with 2 Axes>"
      ]
     },
     "metadata": {
      "needs_background": "light"
     },
     "output_type": "display_data"
    }
   ],
   "source": [
    "# Check if any correlation between Social Engagement and Sentiment\n",
    "combined_df_sub = combined_df[['normalized_social_engagement_score', 'Sentiment Score']]\n",
    "corr = combined_df_sub.corr()\n",
    "sns.heatmap(corr, \n",
    "            xticklabels=['social_enagagement_score','sentiment_score'],\n",
    "            yticklabels=['social_enagagement_score','sentiment_score'])"
   ]
  },
  {
   "cell_type": "code",
   "execution_count": 56,
   "metadata": {},
   "outputs": [
    {
     "data": {
      "text/plain": [
       "<matplotlib.axes._subplots.AxesSubplot at 0x16a33f400>"
      ]
     },
     "execution_count": 56,
     "metadata": {},
     "output_type": "execute_result"
    },
    {
     "data": {
      "image/png": "[encoded data removed]",
      "text/plain": [
       "<Figure size 432x288 with 2 Axes>"
      ]
     },
     "metadata": {
      "needs_background": "light"
     },
     "output_type": "display_data"
    }
   ],
   "source": [
    "# Check if any correlation between Social Engagement and Sentiment for twitter or facebook\n",
    "fb_sentiment_analysis_sub = fb_sentiment_analysis[['normalized_social_engagement_score', 'Sentiment Score']]\n",
    "corr = fb_sentiment_analysis_sub.corr()\n",
    "sns.heatmap(corr, \n",
    "            xticklabels=['social_enagagement_score','sentiment_score'],\n",
    "            yticklabels=['social_enagagement_score','sentiment_score'])\n"
   ]
  },
  {
   "cell_type": "code",
   "execution_count": 57,
   "metadata": {},
   "outputs": [
    {
     "data": {
      "text/plain": [
       "<matplotlib.axes._subplots.AxesSubplot at 0x16991a160>"
      ]
     },
     "execution_count": 57,
     "metadata": {},
     "output_type": "execute_result"
    },
    {
     "data": {
      "image/png": "[encoded data removed]",
      "text/plain": [
       "<Figure size 432x288 with 2 Axes>"
      ]
     },
     "metadata": {
      "needs_background": "light"
     },
     "output_type": "display_data"
    }
   ],
   "source": [
    "# Twitter\n",
    "twitter_sentiment_analysis_sub = twitter_sentiment_analysis[['normalized_social_engagement_score', 'Sentiment Score']]\n",
    "corr = twitter_sentiment_analysis_sub.corr()\n",
    "sns.heatmap(corr, \n",
    "            xticklabels=['social_enagagement_score','sentiment_score'],\n",
    "            yticklabels=['social_enagagement_score','sentiment_score'])"
   ]
  },
  {
   "cell_type": "markdown",
   "metadata": {},
   "source": [
    "As there is no significant correlation let us focus on some other aspects"
   ]
  },
  {
   "cell_type": "code",
   "execution_count": 63,
   "metadata": {},
   "outputs": [
    {
     "data": {
      "image/png": "[encoded data removed]",
      "text/plain": [
       "<Figure size 432x288 with 1 Axes>"
      ]
     },
     "metadata": {},
     "output_type": "display_data"
    },
    {
     "data": {
      "image/png": "[encoded data removed]",
      "text/plain": [
       "<Figure size 432x288 with 1 Axes>"
      ]
     },
     "metadata": {},
     "output_type": "display_data"
    },
    {
     "data": {
      "image/png": "[encoded data removed]",
      "text/plain": [
       "<Figure size 432x288 with 1 Axes>"
      ]
     },
     "metadata": {},
     "output_type": "display_data"
    }
   ],
   "source": [
    "# Compute percentage of postive, neutral vs negative tweets\n",
    "names='Positive Sentiment', 'Neutral Sentiment', 'Negative Sentiment'\n",
    "size=fb_sentiment_analysis['Sentiment Score'].value_counts(normalize=True).tolist()\n",
    "my_circle=plt.Circle( (0,0), 0.7, color='white')\n",
    "plt.pie(size, labels=names, colors=['green','grey','red'])\n",
    "p=plt.gcf()\n",
    "p.gca().add_artist(my_circle)\n",
    "plt.title('Facebook')\n",
    "plt.show()\n",
    "\n",
    "names='Positive Sentiment', 'Neutral Sentiment', 'Negative Sentiment'\n",
    "size=twitter_sentiment_analysis['Sentiment Score'].value_counts(normalize=True)\n",
    "my_circle=plt.Circle( (0,0), 0.7, color='white')\n",
    "plt.pie(size, labels=names, colors=['green','grey','red'])\n",
    "p=plt.gcf()\n",
    "p.gca().add_artist(my_circle)\n",
    "plt.title('Twitter')\n",
    "plt.show()\n",
    "\n",
    "names='Positive Sentiment', 'Neutral Sentiment', 'Negative Sentiment'\n",
    "size=combined_df['Sentiment Score'].value_counts(normalize=True)\n",
    "my_circle=plt.Circle( (0,0), 0.7, color='white')\n",
    "plt.pie(size, labels=names, colors=['green','grey','red'])\n",
    "p=plt.gcf()\n",
    "p.gca().add_artist(my_circle)\n",
    "plt.title('Combined')\n",
    "plt.show()"
   ]
  },
  {
   "attachments": {},
   "cell_type": "markdown",
   "metadata": {},
   "source": [
    "Analysis of Rock Artists:\n",
    "Twenty One Pilots, The Neighbourhood, Harry Styles were identified as rock artists with high social engagement scores while Diego Torres was identified as rock artist with lower social engagement score. Let us analyze if we see a pattern in the post sentiments of artists with high social engagement score vs low social engagement score"
   ]
  }
 ],
 "metadata": {
  "kernelspec": {
   "display_name": "Python 3",
   "language": "python",
   "name": "python3"
  },
  "language_info": {
   "codemirror_mode": {
    "name": "ipython",
    "version": 3
   },
   "file_extension": ".py",
   "mimetype": "text/x-python",
   "name": "python",
   "nbconvert_exporter": "python",
   "pygments_lexer": "ipython3",
   "version": "3.7.2"
  }
 },
 "nbformat": 4,
 "nbformat_minor": 2
}
