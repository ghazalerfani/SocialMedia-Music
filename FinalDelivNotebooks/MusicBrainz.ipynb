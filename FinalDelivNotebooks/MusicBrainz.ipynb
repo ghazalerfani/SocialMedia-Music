{
 "cells": [
  {
   "cell_type": "markdown",
   "metadata": {},
   "source": [
    "# MUSIC BRAINZ DATA EXTRACTION\n",
    "\n",
    "**Purpose** \n",
    "\n",
    "We extract the Single/Album  data from MusicBrainz in this file\n",
    "\n",
    "**Input**\n",
    "We read the data from ArtistList_July2_withDetails.xlsx and we primarily focus on 2 features from the list of inputs:\n",
    "\n",
    "1. Artist name\n",
    "2. Music Brainz Id of the artist extracted manually\n",
    "    \n",
    "**Deliverable**    \n",
    "The output of the file contains the following:\n",
    "\n",
    "1. Name of the artist\n",
    "2. Title of the single/album\n",
    "3. Release date of the single/album\n",
    "4. Type of the entry whether it's a single/album"
   ]
  },
  {
   "cell_type": "code",
   "execution_count": 1,
   "metadata": {},
   "outputs": [],
   "source": [
    "# Necessary imports\n",
    "import pandas as pd\n",
    "import numpy as np\n",
    "import json\n",
    "import urllib\n",
    "import time"
   ]
  },
  {
   "cell_type": "markdown",
   "metadata": {},
   "source": [
    "***Import data***"
   ]
  },
  {
   "cell_type": "code",
   "execution_count": 2,
   "metadata": {},
   "outputs": [],
   "source": [
    "# Read the artists list with handles and load it into a dataframe\n",
    "xls = pd.ExcelFile('ArtistList_July2_withDetails.xlsx')\n",
    "master_artists = pd.read_excel(xls, 'FinalArtistListwithHandles_Jul2')"
   ]
  },
  {
   "cell_type": "code",
   "execution_count": 7,
   "metadata": {},
   "outputs": [],
   "source": [
    "# Create a new dataframe with the following columns\n",
    "df = pd.DataFrame(columns = ['artist_name','title','release_date','primary_type'])"
   ]
  },
  {
   "cell_type": "markdown",
   "metadata": {},
   "source": [
    "***Extracting data from MusicBrainz server***"
   ]
  },
  {
   "cell_type": "markdown",
   "metadata": {},
   "source": [
    "We are extracting MusicBrainz Data using urllib. The url to query is in the following form:\n",
    "\"http://musicbrainz.org/ws/2/release/?query=arid:\" + [MusicBrainz ID of the artist] + \"&fmt=json&inc=release-groups&limit=100&offset=\" + [offset value]\n",
    "\n",
    "We get the albums and songs list in the form of JSON. The limit=100 in the url means that we get 100 records at a time from the MusicBrainz server. The default is 25 and the maximum we can set is 100, hence we kept limit as 100. \n",
    "\n",
    "Offset: It is the offset from the start of the releases list. \n",
    "For example: If the artist is Kygo and his musicBrainz ID is ba0e7638-0cd6-4ff4-8987-c3e224d22c23 and has 1000 releases in total:\n",
    "\"http://musicbrainz.org/ws/2/release/?query=arid:ba0e7638-0cd6-4ff4-8987-c3e224d22c23&fmt=json&inc=release-groups&limit=100&offset=0\"\n",
    "\n",
    "The above url returns 100 releases from offset 0, i.e. the first 100 releases.\n",
    "\n",
    "\"http://musicbrainz.org/ws/2/release/?query=arid:ba0e7638-0cd6-4ff4-8987-c3e224d22c23&fmt=json&inc=release-groups&limit=100&offset=100\"\n",
    "\n",
    "Similarly, The above url returns 100 releases from offset 100, i.e. 101-200 releases' information is extracted.\n",
    "\n",
    "We are leveraging this offset value concept to fetch all the releases information of the artists."
   ]
  },
  {
   "cell_type": "code",
   "execution_count": 8,
   "metadata": {},
   "outputs": [],
   "source": [
    "for index, row in master_artists.iterrows():\n",
    "    # MusicBrainz Server dies down after every 375 requests. Hence We are providing a thread sleep to avoid it.\n",
    "    time.sleep(5) \n",
    "    # Initial offset for an artist's data\n",
    "    offset = 0\n",
    "    while True:\n",
    "        url = \"http://musicbrainz.org/ws/2/release/?query=arid:\" + row['MusicBrainz']+ \"&fmt=json&inc=release-groups&limit=100&offset=\" + str(offset)\n",
    "        contents = urllib.request.urlopen(url).read()\n",
    "        channels = json.loads(contents)\n",
    "        \n",
    "        # Increase the offset by 100 as discussed above\n",
    "        offset += 100 \n",
    "        \n",
    "        # Stopping condition, when there is no release data left\n",
    "        if len(channels['releases']) == 0:\n",
    "            break\n",
    "        for releases in channels['releases']:\n",
    "            features = []\n",
    "            \n",
    "            # Fill the artist column\n",
    "            features.append(row['Artist'])\n",
    "            \n",
    "            # Fill the title column and NaN if not available\n",
    "            if 'title' in releases:\n",
    "                features.append(releases['title'])\n",
    "            else:\n",
    "                features.append(np.NAN)\n",
    "                \n",
    "            # Fill the date column with date of release and NaN if not available\n",
    "            if 'date' in releases:\n",
    "                features.append(releases['date'])\n",
    "            else:\n",
    "                features.append(np.NAN)\n",
    "                \n",
    "            # Fill the release-group column and NaN if not available\n",
    "            if 'release-group' in releases:\n",
    "                if 'primary-type' in releases['release-group']:\n",
    "                    features.append(releases['release-group']['primary-type'])\n",
    "                else:\n",
    "                    features.append(np.NAN)\n",
    "            else:\n",
    "                features.append(np.NAN)\n",
    "                \n",
    "            # Append all the records extracted to the already existing dataframe df    \n",
    "            df = df.append(pd.Series(features,index = df.columns),ignore_index=True)"
   ]
  },
  {
   "cell_type": "markdown",
   "metadata": {},
   "source": [
    "***Cleaning musicbrainz data***"
   ]
  },
  {
   "cell_type": "code",
   "execution_count": 11,
   "metadata": {},
   "outputs": [],
   "source": [
    "# Drop the rows with release dates as null values\n",
    "df = df.dropna(axis=0, subset=['release_date'])\n",
    "\n",
    "# Drop the rows with release_date column length 0 i.e. no release date\n",
    "df = df[df['release_date'].str.len() != 0]"
   ]
  },
  {
   "cell_type": "code",
   "execution_count": 18,
   "metadata": {},
   "outputs": [],
   "source": [
    "# Convert the release_date column to datetime\n",
    "df['release_date'] = pd.to_datetime(df['release_date'], format='%Y-%m-%d %H:%M:%S')"
   ]
  },
  {
   "cell_type": "code",
   "execution_count": 25,
   "metadata": {},
   "outputs": [
    {
     "data": {
      "text/html": [
       "<div>\n",
       "<style scoped>\n",
       "    .dataframe tbody tr th:only-of-type {\n",
       "        vertical-align: middle;\n",
       "    }\n",
       "\n",
       "    .dataframe tbody tr th {\n",
       "        vertical-align: top;\n",
       "    }\n",
       "\n",
       "    .dataframe thead th {\n",
       "        text-align: right;\n",
       "    }\n",
       "</style>\n",
       "<table border=\"1\" class=\"dataframe\">\n",
       "  <thead>\n",
       "    <tr style=\"text-align: right;\">\n",
       "      <th></th>\n",
       "      <th>artist_name</th>\n",
       "      <th>title</th>\n",
       "      <th>release_date</th>\n",
       "      <th>primary_type</th>\n",
       "    </tr>\n",
       "  </thead>\n",
       "  <tbody>\n",
       "    <tr>\n",
       "      <th>0</th>\n",
       "      <td>21 Savage</td>\n",
       "      <td>1Night</td>\n",
       "      <td>2018-04-27</td>\n",
       "      <td>Single</td>\n",
       "    </tr>\n",
       "    <tr>\n",
       "      <th>1</th>\n",
       "      <td>21 Savage</td>\n",
       "      <td>Bartier Cardi</td>\n",
       "      <td>2017-12-22</td>\n",
       "      <td>Single</td>\n",
       "    </tr>\n",
       "    <tr>\n",
       "      <th>2</th>\n",
       "      <td>21 Savage</td>\n",
       "      <td>Enzo</td>\n",
       "      <td>2016-04-24</td>\n",
       "      <td>Single</td>\n",
       "    </tr>\n",
       "    <tr>\n",
       "      <th>3</th>\n",
       "      <td>21 Savage</td>\n",
       "      <td>Focus</td>\n",
       "      <td>2019-06-13</td>\n",
       "      <td>Single</td>\n",
       "    </tr>\n",
       "    <tr>\n",
       "      <th>4</th>\n",
       "      <td>21 Savage</td>\n",
       "      <td>Free Guwop EP</td>\n",
       "      <td>2015-07-02</td>\n",
       "      <td>Album</td>\n",
       "    </tr>\n",
       "  </tbody>\n",
       "</table>\n",
       "</div>"
      ],
      "text/plain": [
       "  artist_name          title release_date primary_type\n",
       "0   21 Savage         1Night   2018-04-27       Single\n",
       "1   21 Savage  Bartier Cardi   2017-12-22       Single\n",
       "2   21 Savage           Enzo   2016-04-24       Single\n",
       "3   21 Savage          Focus   2019-06-13       Single\n",
       "4   21 Savage  Free Guwop EP   2015-07-02        Album"
      ]
     },
     "execution_count": 25,
     "metadata": {},
     "output_type": "execute_result"
    }
   ],
   "source": [
    "# Sort the rows by artist_name, title and release_date columns\n",
    "df.sort_values(by=['artist_name','title','release_date'],inplace=True)\n",
    "\n",
    "# Pick the first date of release in case of multiple release dates\n",
    "df = df.groupby(['artist_name','title']).first()\n",
    "\n",
    "# Reset index of the dataframe\n",
    "df.reset_index(inplace=True)\n",
    "df.head()"
   ]
  },
  {
   "cell_type": "markdown",
   "metadata": {},
   "source": [
    "***Save the dataframe to file***"
   ]
  },
  {
   "cell_type": "code",
   "execution_count": 27,
   "metadata": {},
   "outputs": [],
   "source": [
    "df.to_csv('musicbrainz_data.csv')"
   ]
  }
 ],
 "metadata": {
  "kernelspec": {
   "display_name": "Python 3",
   "language": "python",
   "name": "python3"
  },
  "language_info": {
   "codemirror_mode": {
    "name": "ipython",
    "version": 3
   },
   "file_extension": ".py",
   "mimetype": "text/x-python",
   "name": "python",
   "nbconvert_exporter": "python",
   "pygments_lexer": "ipython3",
   "version": "3.7.1"
  }
 },
 "nbformat": 4,
 "nbformat_minor": 2
}
